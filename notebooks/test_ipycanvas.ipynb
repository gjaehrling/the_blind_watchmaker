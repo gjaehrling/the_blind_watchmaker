{
 "cells": [
  {
   "cell_type": "markdown",
   "id": "bc91be9f-8b4a-49d9-8598-4b0d6122b5a1",
   "metadata": {},
   "source": [
    "### simple drawings: \n",
    "\n",
    "using ipycanvas, see documentation under: https://ipycanvas.readthedocs.io/en/latest/drawing_shapes.html\n"
   ]
  },
  {
   "cell_type": "code",
   "execution_count": 2,
   "id": "3c9c57bc-829a-4de4-bd8c-cfca5aa3f1a6",
   "metadata": {},
   "outputs": [
    {
     "data": {
      "application/vnd.jupyter.widget-view+json": {
       "model_id": "a7f0d46d323548a9b31ac771705b322a",
       "version_major": 2,
       "version_minor": 0
      },
      "text/plain": [
       "Canvas(height=200, width=200)"
      ]
     },
     "execution_count": 2,
     "metadata": {},
     "output_type": "execute_result"
    }
   ],
   "source": [
    "from ipycanvas import Canvas\n",
    "\n",
    "canvas = Canvas(width=200, height=200)\n",
    "\n",
    "canvas.fill_style = \"#63934e\"\n",
    "canvas.stroke_style = \"#4e6393\"\n",
    "canvas.line_width = 5\n",
    "canvas.fill_polygon([(20, 20), (180, 20), (100, 150)])\n",
    "canvas.stroke_polygon([(20, 20), (180, 20), (100, 150)])\n",
    "\n",
    "canvas"
   ]
  },
  {
   "cell_type": "code",
   "execution_count": 3,
   "id": "f05c355c-4d86-4a39-9646-aff76c3a026c",
   "metadata": {},
   "outputs": [
    {
     "data": {
      "application/vnd.jupyter.widget-view+json": {
       "model_id": "943f20cb0b3d4baba400622399e6b87f",
       "version_major": 2,
       "version_minor": 0
      },
      "text/plain": [
       "Canvas(height=200, width=200)"
      ]
     },
     "execution_count": 3,
     "metadata": {},
     "output_type": "execute_result"
    }
   ],
   "source": [
    "canvas = Canvas(width=200, height=200)\n",
    "\n",
    "canvas.stroke_style = \"blue\"\n",
    "canvas.stroke_line(0, 0, 150, 150)\n",
    "\n",
    "canvas.stroke_style = \"red\"\n",
    "canvas.stroke_line(200, 0, 0, 200)\n",
    "\n",
    "canvas.stroke_style = \"green\"\n",
    "canvas.stroke_line(150, 150, 0, 200)\n",
    "\n",
    "canvas"
   ]
  },
  {
   "cell_type": "code",
   "execution_count": 4,
   "id": "ed7ee4fb-1b29-4b77-84dc-fe8ccf23794f",
   "metadata": {},
   "outputs": [
    {
     "data": {
      "application/vnd.jupyter.widget-view+json": {
       "model_id": "e566867bf6d84448a70842fabfe27e19",
       "version_major": 2,
       "version_minor": 0
      },
      "text/plain": [
       "Canvas(width=800)"
      ]
     },
     "execution_count": 4,
     "metadata": {},
     "output_type": "execute_result"
    }
   ],
   "source": [
    "import numpy as np\n",
    "\n",
    "from ipycanvas import Canvas\n",
    "\n",
    "n_particles = 100_000\n",
    "\n",
    "x = np.array(np.random.rayleigh(250, n_particles), dtype=np.int32)\n",
    "y = np.array(np.random.rayleigh(250, n_particles), dtype=np.int32)\n",
    "size = np.random.randint(1, 3, n_particles)\n",
    "\n",
    "canvas = Canvas(width=800, height=500)\n",
    "\n",
    "canvas.fill_style = \"green\"\n",
    "# variant with random size between 1 and 3\n",
    "canvas.fill_rects(x, y, size)\n",
    "# variant with static size:\n",
    "# canvas.fill_rects(x, y, 1)\n",
    "\n",
    "canvas"
   ]
  },
  {
   "cell_type": "markdown",
   "id": "de02be68-f65a-4ec2-a3dd-02d69de050a3",
   "metadata": {},
   "source": [
    "### Sierpinski Triangle (memory optimised with fix allocation of the numpy arrays)"
   ]
  },
  {
   "cell_type": "code",
   "execution_count": 5,
   "id": "0418c498-754d-4d12-abd2-7946e8d9df48",
   "metadata": {},
   "outputs": [
    {
     "data": {
      "application/vnd.jupyter.widget-view+json": {
       "model_id": "e8a42e51d184447e8141473819378a86",
       "version_major": 2,
       "version_minor": 0
      },
      "text/plain": [
       "Canvas(height=550, width=850)"
      ]
     },
     "execution_count": 5,
     "metadata": {},
     "output_type": "execute_result"
    }
   ],
   "source": [
    "import numpy as np\n",
    "import random\n",
    "\n",
    "canvas = Canvas(width=850, height=550)\n",
    "canvas.fill_style = \"blue\"\n",
    "size = 1\n",
    "n = 100_000\n",
    "\n",
    "# surrounding triangle: \n",
    "triangle = {\"a\": (0, 500), \"b\": (400, 10), \"c\": (800, 500)}\n",
    "\n",
    "# draw the points of the triangle: \n",
    "canvas.fill_rect(triangle[\"a\"][0], triangle[\"a\"][1], 1, 1)\n",
    "canvas.fill_rect(triangle[\"b\"][0], triangle[\"b\"][1], 1, 1)\n",
    "canvas.fill_rect(triangle[\"c\"][0], triangle[\"c\"][1], 1, 1)\n",
    "\n",
    "# set the starting point: \n",
    "point = (0, 0)\n",
    "diff_x = diff_y = 0\n",
    "\n",
    "# preallocate the numpy arrays as we know the size of the array. This avoids the usage of np.append:\n",
    "x = np.zeros(n) \n",
    "y = np.zeros(n) \n",
    "\n",
    "for i in range(0, n):\n",
    "    dice = random.choice(list(triangle.keys()))\n",
    "    diff_x = int((triangle[dice][0] - point[0]) / 2)\n",
    "    diff_y = int((triangle[dice][1] - point[1]) / 2)\n",
    "    point = (point[0]+diff_x, point[1]+diff_y)\n",
    "    x[i] = point[0]\n",
    "    y[i] = point[1]\n",
    "\n",
    "# using fill_rects to draw all points at once and not within the loop:\n",
    "canvas.fill_rects(x, y, size)\n",
    "\n",
    "canvas"
   ]
  },
  {
   "cell_type": "markdown",
   "id": "4643fe7f-f7a9-4ebd-bf32-68c23df49ec8",
   "metadata": {},
   "source": [
    "### Sierpinski Triangle (version using append in the numpy array)"
   ]
  },
  {
   "cell_type": "code",
   "execution_count": 9,
   "id": "31db681a-e426-46a3-b5b8-72a6a56d3242",
   "metadata": {},
   "outputs": [
    {
     "data": {
      "application/vnd.jupyter.widget-view+json": {
       "model_id": "701b846ebbde4e15944ffa1a9763b491",
       "version_major": 2,
       "version_minor": 0
      },
      "text/plain": [
       "Canvas(height=550, width=850)"
      ]
     },
     "execution_count": 9,
     "metadata": {},
     "output_type": "execute_result"
    }
   ],
   "source": [
    "import numpy as np\n",
    "import random\n",
    "\n",
    "canvas = Canvas(width=850, height=550)\n",
    "canvas.fill_style = \"blue\"\n",
    "size = 1\n",
    "n = 100_000\n",
    "\n",
    "# surrounding triangle: \n",
    "triangle = {\"a\": (0, 500), \"b\": (400, 10), \"c\": (800, 500)}\n",
    "\n",
    "# draw the points of the triangle: \n",
    "canvas.fill_rect(triangle[\"a\"][0], triangle[\"a\"][1], 1, 1)\n",
    "canvas.fill_rect(triangle[\"b\"][0], triangle[\"b\"][1], 1, 1)\n",
    "canvas.fill_rect(triangle[\"c\"][0], triangle[\"c\"][1], 1, 1)\n",
    "\n",
    "# set the starting point: \n",
    "point = (0, 0)\n",
    "diff_x = diff_y = 0\n",
    "\n",
    "x = np.array(0, dtype=np.int32)\n",
    "y = np.array(0, dtype=np.int32)\n",
    "\n",
    "for n in range(0, n):\n",
    "    dice = random.choice(list(triangle.keys()))\n",
    "    diff_x = int((triangle[dice][0] - point[0]) / 2)\n",
    "    diff_y = int((triangle[dice][1] - point[1]) / 2)\n",
    "    point = (point[0]+diff_x, point[1]+diff_y)\n",
    "    x = np.append(x, point[0])\n",
    "    y = np.append(y, point[1])\n",
    "\n",
    "canvas.fill_rects(x, y, size)\n",
    "\n",
    "canvas"
   ]
  },
  {
   "cell_type": "markdown",
   "id": "7cff2d35-a471-477b-b719-8bab6a9f9d62",
   "metadata": {},
   "source": [
    "### Sierpinski Triangle (unperformant version with drawing the points inside the loop)"
   ]
  },
  {
   "cell_type": "code",
   "execution_count": 7,
   "id": "e93d8259-9439-47a3-b41d-6c09e5dfd53e",
   "metadata": {},
   "outputs": [
    {
     "data": {
      "application/vnd.jupyter.widget-view+json": {
       "model_id": "7e25678450c842da88d51c7b3922657e",
       "version_major": 2,
       "version_minor": 0
      },
      "text/plain": [
       "Canvas(height=550, width=850)"
      ]
     },
     "execution_count": 7,
     "metadata": {},
     "output_type": "execute_result"
    }
   ],
   "source": [
    "import random\n",
    "\n",
    "canvas = Canvas(width=850, height=550)\n",
    "canvas.fill_style = \"red\"\n",
    "size = 4\n",
    "n = 500\n",
    "\n",
    "# surrounding triangle: \n",
    "triangle = {\"a\": (0, 500), \"b\": (400, 10), \"c\": (800, 500)}\n",
    "\n",
    "# draw the points of the triangle: \n",
    "canvas.fill_rect(triangle[\"a\"][0], triangle[\"a\"][1], size, size)\n",
    "canvas.fill_rect(triangle[\"b\"][0], triangle[\"b\"][1], size, size)\n",
    "canvas.fill_rect(triangle[\"c\"][0], triangle[\"c\"][1], size, size)\n",
    "\n",
    "canvas.fill_style = \"green\"\n",
    "\n",
    "# set the starting point: \n",
    "new_point = (0, 0)\n",
    "diff_x = diff_y = 0\n",
    "\n",
    "canvas.fill_style = \"blue\"\n",
    "\n",
    "for n in range(0, n):\n",
    "    dice = random.choice(list(triangle.keys()))\n",
    "    diff_x = int((triangle[dice][0] - new_point[0]) / 2)\n",
    "    diff_y = int((triangle[dice][1] - new_point[1]) / 2)\n",
    "    new_point = (new_point[0]+diff_x, new_point[1]+diff_y)\n",
    "    canvas.fill_rect(new_point[0], new_point[1], size, size)\n",
    "\n",
    "\n",
    "canvas\n"
   ]
  },
  {
   "cell_type": "code",
   "execution_count": null,
   "id": "32999fc4-9228-478b-b8cf-5313a2eefd81",
   "metadata": {},
   "outputs": [],
   "source": []
  },
  {
   "cell_type": "code",
   "execution_count": null,
   "id": "8c2b0eaa-ddd1-49b0-afd1-eb99a684b5bf",
   "metadata": {},
   "outputs": [],
   "source": []
  }
 ],
 "metadata": {
  "kernelspec": {
   "display_name": "Python 3 (ipykernel)",
   "language": "python",
   "name": "python3"
  },
  "language_info": {
   "codemirror_mode": {
    "name": "ipython",
    "version": 3
   },
   "file_extension": ".py",
   "mimetype": "text/x-python",
   "name": "python",
   "nbconvert_exporter": "python",
   "pygments_lexer": "ipython3",
   "version": "3.9.18"
  }
 },
 "nbformat": 4,
 "nbformat_minor": 5
}
