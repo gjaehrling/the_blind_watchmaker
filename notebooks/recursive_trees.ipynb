{
 "cells": [
  {
   "cell_type": "markdown",
   "id": "276b29f7-ce9e-4fbb-81de-e743ffc7be48",
   "metadata": {},
   "source": [
    "## Drawing Fractal Trees with recursion"
   ]
  },
  {
   "cell_type": "code",
   "execution_count": 81,
   "id": "ebb82235-407d-4d81-bb7d-dec8c38c65ae",
   "metadata": {},
   "outputs": [],
   "source": [
    "from math import pi\n",
    "from random import uniform\n",
    "\n",
    "from ipywidgets import Button\n",
    "\n",
    "from ipycanvas import Canvas, hold_canvas"
   ]
  },
  {
   "cell_type": "code",
   "execution_count": 82,
   "id": "8f16a23b-ece0-42aa-8394-a63ed6f1d9a7",
   "metadata": {},
   "outputs": [],
   "source": [
    "canvas = Canvas(width=800, height=600)"
   ]
  },
  {
   "cell_type": "code",
   "execution_count": 83,
   "id": "0394ad8e-4cef-4509-985c-16e463dc4459",
   "metadata": {},
   "outputs": [],
   "source": [
    "def recursive_draw_leaf(canvas, length, r_angle, r_factor, l_angle, l_factor):\n",
    "    canvas.stroke_line(0, 0, 0, -length)\n",
    "    canvas.translate(0, -length)\n",
    "\n",
    "    if length > 5:\n",
    "        canvas.save()\n",
    "\n",
    "        canvas.rotate(r_angle)\n",
    "        recursive_draw_leaf(\n",
    "            canvas, length * r_factor, r_angle, r_factor, l_angle, l_factor\n",
    "        )\n",
    "\n",
    "        canvas.restore()\n",
    "\n",
    "        canvas.save()\n",
    "\n",
    "        canvas.rotate(l_angle)\n",
    "        recursive_draw_leaf(\n",
    "            canvas, length * l_factor, r_angle, r_factor, l_angle, l_factor\n",
    "        )\n",
    "\n",
    "        canvas.restore()"
   ]
  },
  {
   "cell_type": "code",
   "execution_count": 84,
   "id": "bef32b8c-61ce-4e1a-8c11-f221a897cfbf",
   "metadata": {},
   "outputs": [],
   "source": [
    "def draw_tree(canvas):\n",
    "    with hold_canvas():\n",
    "        canvas.save()\n",
    "\n",
    "        canvas.clear()\n",
    "\n",
    "        canvas.translate(canvas.width / 2.0, canvas.height)\n",
    "\n",
    "        canvas.stroke_style = \"white\"\n",
    "\n",
    "        r_factor = uniform(0.6, 0.8)\n",
    "        l_factor = uniform(0.6, 0.8)\n",
    "\n",
    "        r_angle = uniform(pi / 10.0, pi / 5.0)\n",
    "        l_angle = uniform(-pi / 5.0, -pi / 10.0)\n",
    "\n",
    "        recursive_draw_leaf(canvas, 150, r_angle, r_factor, l_angle, l_factor)\n",
    "\n",
    "        canvas.restore()"
   ]
  },
  {
   "cell_type": "code",
   "execution_count": 85,
   "id": "15e3d6bb-0359-4121-a251-1547e82543d6",
   "metadata": {},
   "outputs": [],
   "source": [
    "button = Button(description=\"Generate tree!\")\n",
    "\n",
    "\n",
    "def click_callback(*args, **kwargs):\n",
    "    global canvas\n",
    "\n",
    "    draw_tree(canvas)\n",
    "\n",
    "\n",
    "button.on_click(click_callback)"
   ]
  },
  {
   "cell_type": "code",
   "execution_count": 86,
   "id": "12b99aad-b75c-41c6-ad23-caa4461d1ef7",
   "metadata": {},
   "outputs": [],
   "source": [
    "draw_tree(canvas)"
   ]
  },
  {
   "cell_type": "code",
   "execution_count": 87,
   "id": "dd25c6ad-6502-4620-af53-009a79749632",
   "metadata": {},
   "outputs": [
    {
     "data": {
      "application/vnd.jupyter.widget-view+json": {
       "model_id": "787d2505e77b42f4a87da963046cacc6",
       "version_major": 2,
       "version_minor": 0
      },
      "text/plain": [
       "Canvas(height=600, width=800)"
      ]
     },
     "metadata": {},
     "output_type": "display_data"
    },
    {
     "data": {
      "application/vnd.jupyter.widget-view+json": {
       "model_id": "7fe8103d3646458f849212191ab2436a",
       "version_major": 2,
       "version_minor": 0
      },
      "text/plain": [
       "Button(description='Generate tree!', style=ButtonStyle())"
      ]
     },
     "metadata": {},
     "output_type": "display_data"
    }
   ],
   "source": [
    "display(canvas)\n",
    "display(button)"
   ]
  },
  {
   "cell_type": "code",
   "execution_count": null,
   "id": "1d540aab-741b-4eb8-89f8-6a06f02e4b28",
   "metadata": {},
   "outputs": [],
   "source": []
  }
 ],
 "metadata": {
  "kernelspec": {
   "display_name": "Python 3 (ipykernel)",
   "language": "python",
   "name": "python3"
  },
  "language_info": {
   "codemirror_mode": {
    "name": "ipython",
    "version": 3
   },
   "file_extension": ".py",
   "mimetype": "text/x-python",
   "name": "python",
   "nbconvert_exporter": "python",
   "pygments_lexer": "ipython3",
   "version": "3.9.18"
  }
 },
 "nbformat": 4,
 "nbformat_minor": 5
}
