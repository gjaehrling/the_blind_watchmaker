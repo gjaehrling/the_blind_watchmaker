{
 "cells": [
  {
   "cell_type": "markdown",
   "id": "bc91be9f-8b4a-49d9-8598-4b0d6122b5a1",
   "metadata": {},
   "source": [
    "### simple drawings: \n",
    "\n",
    "using ipycanvas, see documentation under: https://ipycanvas.readthedocs.io/en/latest/drawing_shapes.html\n"
   ]
  },
  {
   "cell_type": "code",
   "execution_count": 1,
   "id": "3c9c57bc-829a-4de4-bd8c-cfca5aa3f1a6",
   "metadata": {},
   "outputs": [
    {
     "data": {
      "application/vnd.jupyter.widget-view+json": {
       "model_id": "9c29a4913ce94cf882fdefaf2d90f691",
       "version_major": 2,
       "version_minor": 0
      },
      "text/plain": [
       "Canvas(height=200, width=200)"
      ]
     },
     "execution_count": 1,
     "metadata": {},
     "output_type": "execute_result"
    }
   ],
   "source": [
    "from ipycanvas import Canvas\n",
    "\n",
    "canvas = Canvas(width=200, height=200)\n",
    "\n",
    "canvas.fill_style = \"#63934e\"\n",
    "canvas.stroke_style = \"#4e6393\"\n",
    "canvas.line_width = 5\n",
    "canvas.fill_polygon([(20, 20), (180, 20), (100, 150)])\n",
    "canvas.stroke_polygon([(20, 20), (180, 20), (100, 150)])\n",
    "\n",
    "canvas"
   ]
  },
  {
   "cell_type": "code",
   "execution_count": 2,
   "id": "f05c355c-4d86-4a39-9646-aff76c3a026c",
   "metadata": {},
   "outputs": [
    {
     "data": {
      "application/vnd.jupyter.widget-view+json": {
       "model_id": "9965c15215ed4c3db878601621a0c91b",
       "version_major": 2,
       "version_minor": 0
      },
      "text/plain": [
       "Canvas(height=200, width=200)"
      ]
     },
     "execution_count": 2,
     "metadata": {},
     "output_type": "execute_result"
    }
   ],
   "source": [
    "canvas = Canvas(width=200, height=200)\n",
    "\n",
    "canvas.stroke_style = \"blue\"\n",
    "canvas.stroke_line(0, 0, 150, 150)\n",
    "\n",
    "canvas.stroke_style = \"red\"\n",
    "canvas.stroke_line(200, 0, 0, 200)\n",
    "\n",
    "canvas.stroke_style = \"green\"\n",
    "canvas.stroke_line(150, 150, 0, 200)\n",
    "\n",
    "canvas"
   ]
  },
  {
   "cell_type": "code",
   "execution_count": 33,
   "id": "ed7ee4fb-1b29-4b77-84dc-fe8ccf23794f",
   "metadata": {},
   "outputs": [
    {
     "data": {
      "application/vnd.jupyter.widget-view+json": {
       "model_id": "0a51e8a70db1414aa9297f68b5c4c75b",
       "version_major": 2,
       "version_minor": 0
      },
      "text/plain": [
       "Canvas(width=800)"
      ]
     },
     "execution_count": 33,
     "metadata": {},
     "output_type": "execute_result"
    }
   ],
   "source": [
    "import numpy as np\n",
    "\n",
    "from ipycanvas import Canvas\n",
    "\n",
    "n_particles = 100_000\n",
    "\n",
    "x = np.array(np.random.rayleigh(250, n_particles), dtype=np.int32)\n",
    "y = np.array(np.random.rayleigh(250, n_particles), dtype=np.int32)\n",
    "size = np.random.randint(1, 3, n_particles)\n",
    "\n",
    "canvas = Canvas(width=800, height=500)\n",
    "\n",
    "canvas.fill_style = \"green\"\n",
    "# variant with random size between 1 and 3\n",
    "canvas.fill_rects(x, y, size)\n",
    "# variant with static size:\n",
    "# canvas.fill_rects(x, y, 1)\n",
    "\n",
    "canvas"
   ]
  },
  {
   "cell_type": "code",
   "execution_count": null,
   "id": "1cad95f0-0dbf-4bc8-995d-be8d52b61b09",
   "metadata": {},
   "outputs": [],
   "source": []
  },
  {
   "cell_type": "code",
   "execution_count": 60,
   "id": "e93d8259-9439-47a3-b41d-6c09e5dfd53e",
   "metadata": {},
   "outputs": [
    {
     "name": "stdout",
     "output_type": "stream",
     "text": [
      "b\n",
      "(400, 10)\n",
      "195 0\n"
     ]
    },
    {
     "data": {
      "application/vnd.jupyter.widget-view+json": {
       "model_id": "58f5cc5747e046d49d44c95fdeecca50",
       "version_major": 2,
       "version_minor": 0
      },
      "text/plain": [
       "Canvas(height=550, width=850)"
      ]
     },
     "execution_count": 60,
     "metadata": {},
     "output_type": "execute_result"
    }
   ],
   "source": [
    "import random\n",
    "\n",
    "canvas = Canvas(width=850, height=550)\n",
    "canvas.fill_style = \"red\"\n",
    "size = 1\n",
    "n = 10\n",
    "\n",
    "# surrounding triangle: \n",
    "a = (0, 500)\n",
    "b = (400, 10)\n",
    "c = (800, 500)\n",
    "\n",
    "triangle = {\"a\": (0, 500), \"b\": (400, 10), \"c\": (800, 500)}\n",
    "\n",
    "# draw the points of the triangle: \n",
    "canvas.fill_rect(a[0], a[1], 4, 4)\n",
    "canvas.fill_rect(b[0], b[1], 4, 4)\n",
    "canvas.fill_rect(c[0], c[1], 4, 4)\n",
    "\n",
    "canvas.fill_style = \"green\"\n",
    "new_point = (10, 10)\n",
    "canvas.fill_rect(new_point[0], new_point[1], 4, 4)\n",
    "\n",
    "#dice = random.randint(1,3)\n",
    "dice = random.choice(list(triangle.keys()))\n",
    "print(dice)\n",
    "print(triangle[dice])\n",
    "\n",
    "diff_x = diff_y = 0\n",
    "diff_x = int((triangle[dice][0] - new_point[0]) / 2)\n",
    "diff_y = int((triangle[dice][1] - new_point[1]) / 2)\n",
    "print(diff_x, diff_y)\n",
    "\n",
    "canvas.fill_style = \"blue\"\n",
    "new_point = (new_point[0]+diff_x, new_point[1]+diff_y)\n",
    "canvas.fill_rect(new_point[0], new_point[1], 4, 4)\n",
    "\n",
    "#print(new_point[0], new_point[1])\n",
    "#for n in range(0, n):\n",
    "#    dice = random.choice(list(triangle.keys()))\n",
    "#    diff_x = int((triangle[dice][0] - new_point[0]) / 2)\n",
    "#    diff_y = int((triangle[dice][1] - new_point[1]) / 2)\n",
    "#    canvas.fill_rect(new_point[0]+diff_x, new_point[1]+diff_y, 4, 4)\n",
    "    \n",
    "#    print(n)\n",
    "\n",
    "canvas\n"
   ]
  },
  {
   "cell_type": "code",
   "execution_count": null,
   "id": "0d460529-5c10-4f92-b15c-84b56f7b80e1",
   "metadata": {},
   "outputs": [],
   "source": []
  },
  {
   "cell_type": "code",
   "execution_count": null,
   "id": "31db681a-e426-46a3-b5b8-72a6a56d3242",
   "metadata": {},
   "outputs": [],
   "source": []
  }
 ],
 "metadata": {
  "kernelspec": {
   "display_name": "Python 3 (ipykernel)",
   "language": "python",
   "name": "python3"
  },
  "language_info": {
   "codemirror_mode": {
    "name": "ipython",
    "version": 3
   },
   "file_extension": ".py",
   "mimetype": "text/x-python",
   "name": "python",
   "nbconvert_exporter": "python",
   "pygments_lexer": "ipython3",
   "version": "3.9.18"
  }
 },
 "nbformat": 4,
 "nbformat_minor": 5
}
