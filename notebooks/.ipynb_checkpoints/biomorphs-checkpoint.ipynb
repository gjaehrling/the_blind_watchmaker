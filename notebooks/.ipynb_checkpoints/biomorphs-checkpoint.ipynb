{
 "cells": [
  {
   "cell_type": "markdown",
   "id": "e86edef2-7da7-40ff-af4a-2971da94ca39",
   "metadata": {},
   "source": [
    "## Implementation of Biomorphs"
   ]
  },
  {
   "cell_type": "code",
   "execution_count": 1,
   "id": "91046f23-ef9b-4f87-ad73-10d21b545962",
   "metadata": {},
   "outputs": [],
   "source": [
    "from math import pi\n",
    "from random import choice, uniform, randint\n",
    "\n",
    "from ipycanvas import Canvas, hold_canvas\n",
    "from ipywidgets import Button"
   ]
  },
  {
   "cell_type": "code",
   "execution_count": 2,
   "id": "f1b8dd22-dbef-4c58-95c5-3d19360f8e90",
   "metadata": {},
   "outputs": [],
   "source": [
    "canvas = Canvas(width=800, height=600)"
   ]
  },
  {
   "cell_type": "markdown",
   "id": "9b31a716-ebb3-41ee-b183-6fcfb3624c30",
   "metadata": {},
   "source": [
    "### Draw a tree using recursion"
   ]
  },
  {
   "cell_type": "code",
   "execution_count": 69,
   "id": "0df1da2a-8baa-4fcf-9b25-22a06ca204e2",
   "metadata": {},
   "outputs": [],
   "source": [
    "def recursive_draw_leaf(canvas, length, r_angle, r_factor, l_angle, l_factor, width):\n",
    "    canvas.stroke_line(0, 0, 0, -length)\n",
    "    canvas.translate(0, -length)\n",
    "\n",
    "    if length > 5:\n",
    "        canvas.save()\n",
    "\n",
    "        # recursive call for the right part of the tree:\n",
    "        canvas.rotate(r_angle)\n",
    "        canvas.line_width = width\n",
    "        recursive_draw_leaf(canvas, length * r_factor, r_angle, r_factor, l_angle, l_factor, width - 2)\n",
    "\n",
    "        canvas.restore()\n",
    "\n",
    "        canvas.save()\n",
    "\n",
    "        # recursive call for the left part of the tree:\n",
    "        canvas.rotate(l_angle)\n",
    "        canvas.line_width = width\n",
    "        recursive_draw_leaf(canvas, length * l_factor, r_angle, r_factor, l_angle, l_factor, width - 2)\n",
    "\n",
    "        canvas.restore()"
   ]
  },
  {
   "cell_type": "code",
   "execution_count": 76,
   "id": "75653aa2-9bde-43e6-b23b-215bb45d2ab5",
   "metadata": {},
   "outputs": [],
   "source": [
    "def draw_tree(canvas):\n",
    "    with hold_canvas():\n",
    "        canvas.save()\n",
    "\n",
    "        canvas.clear()\n",
    "\n",
    "        canvas.translate(canvas.width / 2.0, canvas.height)\n",
    "\n",
    "        canvas.stroke_style = \"white\"\n",
    "        width = 10\n",
    "        canvas.line_width = width\n",
    "\n",
    "        r_factor = uniform(0.6, 0.8)\n",
    "        l_factor = uniform(0.6, 0.8)\n",
    "\n",
    "        r_angle = uniform(pi / 10.0, pi / 5.0)\n",
    "        l_angle = uniform(-pi / 5.0, -pi / 10.0)\n",
    "\n",
    "        recursive_draw_leaf(canvas, 150, r_angle, r_factor, l_angle, l_factor, width)\n",
    "\n",
    "        canvas.restore()"
   ]
  },
  {
   "cell_type": "code",
   "execution_count": 77,
   "id": "823de7a8-fedc-4b55-a20f-f51e35ce85fb",
   "metadata": {},
   "outputs": [],
   "source": [
    "draw_tree(canvas)"
   ]
  },
  {
   "cell_type": "code",
   "execution_count": 62,
   "id": "b1a41b73-dd6c-44be-98c1-e05ee0526fe6",
   "metadata": {},
   "outputs": [
    {
     "data": {
      "application/vnd.jupyter.widget-view+json": {
       "model_id": "9042e489c2dd41fcaf58729f14620e8a",
       "version_major": 2,
       "version_minor": 0
      },
      "text/plain": [
       "Canvas(height=600, width=800)"
      ]
     },
     "metadata": {},
     "output_type": "display_data"
    }
   ],
   "source": [
    "display(canvas)"
   ]
  },
  {
   "cell_type": "code",
   "execution_count": null,
   "id": "2eac45cf-512e-4ea2-b393-16a6e4b52c70",
   "metadata": {},
   "outputs": [],
   "source": []
  }
 ],
 "metadata": {
  "kernelspec": {
   "display_name": "Python 3 (ipykernel)",
   "language": "python",
   "name": "python3"
  },
  "language_info": {
   "codemirror_mode": {
    "name": "ipython",
    "version": 3
   },
   "file_extension": ".py",
   "mimetype": "text/x-python",
   "name": "python",
   "nbconvert_exporter": "python",
   "pygments_lexer": "ipython3",
   "version": "3.9.18"
  }
 },
 "nbformat": 4,
 "nbformat_minor": 5
}
