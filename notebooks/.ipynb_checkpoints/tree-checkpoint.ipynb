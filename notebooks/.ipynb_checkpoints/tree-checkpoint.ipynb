{
 "cells": [
  {
   "cell_type": "markdown",
   "id": "e86edef2-7da7-40ff-af4a-2971da94ca39",
   "metadata": {},
   "source": [
    "## Implementation of recursive Tree"
   ]
  },
  {
   "cell_type": "code",
   "execution_count": 1,
   "id": "91046f23-ef9b-4f87-ad73-10d21b545962",
   "metadata": {},
   "outputs": [],
   "source": [
    "from math import pi, cos, sin, tan, atan\n",
    "from random import choice, uniform, randint\n",
    "\n",
    "from ipycanvas import Canvas, hold_canvas\n",
    "from ipywidgets import Button"
   ]
  },
  {
   "cell_type": "code",
   "execution_count": 226,
   "id": "f1b8dd22-dbef-4c58-95c5-3d19360f8e90",
   "metadata": {},
   "outputs": [],
   "source": [
    "canvas = Canvas(width=800, height=600)"
   ]
  },
  {
   "cell_type": "code",
   "execution_count": null,
   "id": "ab8e8c96-cafc-478f-8f02-d22a1f7275cc",
   "metadata": {},
   "outputs": [],
   "source": []
  },
  {
   "cell_type": "markdown",
   "id": "9b31a716-ebb3-41ee-b183-6fcfb3624c30",
   "metadata": {},
   "source": [
    "### Draw a tree using recursion"
   ]
  },
  {
   "cell_type": "code",
   "execution_count": 96,
   "id": "0df1da2a-8baa-4fcf-9b25-22a06ca204e2",
   "metadata": {},
   "outputs": [],
   "source": [
    "def recursive_draw_leaf(canvas, length, r_angle, r_factor, l_angle, l_factor, width):\n",
    "    canvas.stroke_line(0, 0, 0, -length)\n",
    "    canvas.translate(0, -length)\n",
    "\n",
    "    if length > 4:\n",
    "        canvas.save()\n",
    "\n",
    "        # recursive call for the right part of the tree:\n",
    "        canvas.rotate(r_angle)\n",
    "        canvas.line_width = width\n",
    "        recursive_draw_leaf(canvas, length * r_factor, r_angle, r_factor, l_angle, l_factor, width)\n",
    "\n",
    "        canvas.restore()\n",
    "\n",
    "        canvas.save()\n",
    "\n",
    "        # recursive call for the left part of the tree:\n",
    "        canvas.rotate(l_angle)\n",
    "        canvas.line_width = width\n",
    "        recursive_draw_leaf(canvas, length * l_factor, r_angle, r_factor, l_angle, l_factor, width)\n",
    "\n",
    "        canvas.restore()"
   ]
  },
  {
   "cell_type": "code",
   "execution_count": 97,
   "id": "75653aa2-9bde-43e6-b23b-215bb45d2ab5",
   "metadata": {},
   "outputs": [],
   "source": [
    "def draw_tree(canvas):\n",
    "    with hold_canvas():\n",
    "        canvas.save()\n",
    "\n",
    "        canvas.clear()\n",
    "\n",
    "        canvas.translate(canvas.width / 2.0, canvas.height)\n",
    "\n",
    "        canvas.stroke_style = \"white\"\n",
    "        width = 1\n",
    "        canvas.line_width = width\n",
    "\n",
    "        # The uniform() method returns a random floating number between the two specified numbers (both included).\n",
    "        # factor with slight randomness:\n",
    "        # r_factor = uniform(0.6, 0.8)\n",
    "        # l_factor = uniform(0.6, 0.8)\n",
    "\n",
    "        # left and right angle with slight randomness:\n",
    "        # r_angle = uniform(pi / 10.0, pi / 5.0)\n",
    "        # l_angle = uniform(-pi / 5.0, -pi / 10.0)\n",
    "        # l_angle = uniform(-pi / 10.0, -pi / 5.0)\n",
    "\n",
    "        # example as basis of the biomorphs without randomness:\n",
    "        r_factor = 0.6\n",
    "        l_factor = 0.6\n",
    "        r_angle = pi / 4.0\n",
    "        l_angle = -pi / 4.0\n",
    "\n",
    "        recursive_draw_leaf(canvas, 150, r_angle, r_factor, l_angle, l_factor, width)\n",
    "\n",
    "        canvas.restore()"
   ]
  },
  {
   "cell_type": "code",
   "execution_count": 98,
   "id": "823de7a8-fedc-4b55-a20f-f51e35ce85fb",
   "metadata": {},
   "outputs": [],
   "source": [
    "draw_tree(canvas)"
   ]
  },
  {
   "cell_type": "code",
   "execution_count": 99,
   "id": "b1a41b73-dd6c-44be-98c1-e05ee0526fe6",
   "metadata": {},
   "outputs": [
    {
     "data": {
      "application/vnd.jupyter.widget-view+json": {
       "model_id": "5b17687f25384268a5a5a04f0227c09c",
       "version_major": 2,
       "version_minor": 0
      },
      "text/plain": [
       "Canvas(height=600, width=800)"
      ]
     },
     "metadata": {},
     "output_type": "display_data"
    }
   ],
   "source": [
    "display(canvas)"
   ]
  },
  {
   "cell_type": "markdown",
   "id": "577bb036-f865-4297-b046-ee484957a2d5",
   "metadata": {},
   "source": [
    "## Define the Biomorph"
   ]
  },
  {
   "cell_type": "code",
   "execution_count": 231,
   "id": "7ec1cf2f-75e7-44ad-b5a0-e108eca358fa",
   "metadata": {},
   "outputs": [],
   "source": [
    "class Gene:\n",
    "    def __init__(self, name, minimum, maximum, num_discrete_values):\n",
    "        self.name = name\n",
    "        if minimum >= maximum:\n",
    "            raise ValueError(\"minimum must be less than maximum\")\n",
    "        if num_discrete_values <= 1:\n",
    "            raise ValueError(\"num_discrete_values should be greater than 1.\")\n",
    "\n",
    "        self.min = minimum\n",
    "        self.max = maximum\n",
    "        self.delta = (maximum - minimum) / (num_discrete_values - 1)\n",
    "        self.num_discrete_values = num_discrete_values\n",
    "        self.underlying_value = 0"
   ]
  },
  {
   "cell_type": "code",
   "execution_count": 232,
   "id": "ae67286e-94cd-436d-91d5-3fc6893722a9",
   "metadata": {},
   "outputs": [],
   "source": [
    "class Biomorph:\n",
    "    def __init__(self):\n",
    "        self.iterations = Gene('Iterations', 1, 9, 9)\n",
    "\n",
    "        # The branching lengths for branches pointing 'upwards' and downwards\n",
    "        # from -30 to 30 (step of 0.2)\n",
    "        self.branch_length_up = Gene('Branch length (up)', -30, 30, 51)\n",
    "        self.branch_length_down  = Gene('Branch length (down)', -30, 30, 51)\n",
    "\n",
    "        # The branching angles for branches pointing 'upwards' (-pi/2 -> 3/4 pi/2) and downwards\n",
    "        self.branch_angle_up = Gene('Branch angle (up)', -pi, .75 * pi, 16)\n",
    "        self.branch_angle_down = Gene('Branch angle (down)', -pi, 0.75 * pi, 16)\n",
    "\n",
    "        # How much to change the length of a branch pointing 'upwards' and 'downwards'\n",
    "        self.branch_length_delta_up = Gene('Branch length delta (up)', -30, 30, 31);\n",
    "        self.branch_length_delta_down = Gene('Branch length delta (down)', -30, 30, 31);\n",
    "\n",
    "        # How much to change the angles of branches pointing 'upwards' and 'downwards'\n",
    "        self.branch_angle_delta_up = Gene('Branch angle delta (up)', -pi, 0.75 * pi, 16);\n",
    "        self.branch_angle_delta_down = Gene('Branch angle delta (down)', -pi, 0.75 * pi, 16);\n",
    "\n",
    "        # The aspect ratio - width / height that scales stretches and squashes the biomorph\n",
    "        self.aspect_ratio = Gene('Aspect ratio', 0.2, 5, 25)"
   ]
  },
  {
   "cell_type": "code",
   "execution_count": 233,
   "id": "04507c88-b2c6-4433-95c7-494bdfc952a6",
   "metadata": {},
   "outputs": [],
   "source": [
    "def recursive_draw_biomorph(canvas, startx, starty, order, startdir, dx, dy, iterations_remaining):\n",
    "    r_factor = 0.7\n",
    "    l_factor = 0.7\n",
    "    r_angle = pi / -20.0\n",
    "    l_angle = -pi / 8.0\n",
    "    \n",
    "    # starting point:\n",
    "    canvas.stroke_line(startx, starty, dx, dy)\n",
    "    #canvas.translate(0, -length)\n",
    "\n",
    "    iterations_remaining -= 1\n",
    "\n",
    "    if iterations_remaining > 0:\n",
    "        canvas.save()\n",
    "\n",
    "        # recursive call for the right part of the tree:\n",
    "        startx = dx\n",
    "        starty = dy\n",
    "        dy = startx \n",
    "        canvas.rotate(r_angle)\n",
    "        canvas.line_width = 1\n",
    "        #recursive_draw_biomorph(canvas, length * r_factor, r_angle, r_factor, l_angle, l_factor, width)\n",
    "        recursive_draw_biomorph(canvas, startx, starty, order, startdir, dx, dy)\n",
    "\n",
    "        canvas.restore()\n",
    "\n",
    "        canvas.save()\n",
    "\n",
    "        # recursive call for the left part of the tree:\n",
    "        canvas.rotate(l_angle)\n",
    "        canvas.line_width = 1\n",
    "        #recursive_draw_biomorph(canvas, length * l_factor, r_angle, r_factor, l_angle, l_factor, width)\n",
    "        recursive_draw_biomorph(canvas, startx, starty, order, startdir, dx, dy)\n",
    "\n",
    "        canvas.restore()"
   ]
  },
  {
   "cell_type": "code",
   "execution_count": 95,
   "id": "99657791-1197-4304-9995-aecda7808410",
   "metadata": {},
   "outputs": [],
   "source": [
    "def draw_biomorph(canvas):\n",
    "\n",
    "    biomorph = Biomorph()\n",
    "    \n",
    "    with hold_canvas():\n",
    "        canvas.save()\n",
    "\n",
    "        canvas.clear()\n",
    "\n",
    "        canvas.translate(canvas.width / 2.0, canvas.height)\n",
    "\n",
    "        canvas.stroke_style = \"white\"\n",
    "        width = 1\n",
    "        canvas.line_width = width\n",
    "\n",
    "        # The uniform() method returns a random floating number between the two specified numbers (both included).\n",
    "        # factor with slight randomness:\n",
    "        # r_factor = uniform(0.6, 0.8)\n",
    "        # l_factor = uniform(0.6, 0.8)\n",
    "\n",
    "        # left and right angle with slight randomness:\n",
    "        # r_angle = uniform(pi / 10.0, pi / 5.0)\n",
    "        # l_angle = uniform(-pi / 5.0, -pi / 10.0)\n",
    "        # l_angle = uniform(-pi / 10.0, -pi / 5.0)\n",
    "\n",
    "        # example as basis of the biomorphs without randomness:\n",
    "        r_factor = 0.7\n",
    "        l_factor = 0.7\n",
    "        r_angle = pi / -20.0\n",
    "        l_angle = -pi / 8.0\n",
    "\n",
    "        startx = 200\n",
    "        starty = 200\n",
    "        order = 100\n",
    "        startdir = up\n",
    "        dx = 200\n",
    "        dy = 100\n",
    "\n",
    "        iterations_remaining = 3\n",
    "        \n",
    "        # draw_biomorph_step(canvas, 150, r_angle, r_factor, l_angle, l_factor, width)\n",
    "        recursive_draw_biomorph(canvas, startx, starty, order, startdir, dx, dy, iterations_remaining)\n",
    "\n",
    "        canvas.restore()"
   ]
  },
  {
   "cell_type": "code",
   "execution_count": 96,
   "id": "cb303476-e2fe-4f0b-bead-f7d02ec3e1e6",
   "metadata": {},
   "outputs": [
    {
     "ename": "NameError",
     "evalue": "name 'up' is not defined",
     "output_type": "error",
     "traceback": [
      "\u001b[0;31m---------------------------------------------------------------------------\u001b[0m",
      "\u001b[0;31mNameError\u001b[0m                                 Traceback (most recent call last)",
      "Cell \u001b[0;32mIn[96], line 1\u001b[0m\n\u001b[0;32m----> 1\u001b[0m \u001b[43mdraw_biomorph\u001b[49m\u001b[43m(\u001b[49m\u001b[43mcanvas\u001b[49m\u001b[43m)\u001b[49m\n",
      "Cell \u001b[0;32mIn[95], line 35\u001b[0m, in \u001b[0;36mdraw_biomorph\u001b[0;34m(canvas)\u001b[0m\n\u001b[1;32m     33\u001b[0m starty \u001b[38;5;241m=\u001b[39m \u001b[38;5;241m200\u001b[39m\n\u001b[1;32m     34\u001b[0m order \u001b[38;5;241m=\u001b[39m \u001b[38;5;241m100\u001b[39m\n\u001b[0;32m---> 35\u001b[0m startdir \u001b[38;5;241m=\u001b[39m \u001b[43mup\u001b[49m\n\u001b[1;32m     36\u001b[0m dx \u001b[38;5;241m=\u001b[39m \u001b[38;5;241m200\u001b[39m\n\u001b[1;32m     37\u001b[0m dy \u001b[38;5;241m=\u001b[39m \u001b[38;5;241m100\u001b[39m\n",
      "\u001b[0;31mNameError\u001b[0m: name 'up' is not defined"
     ]
    }
   ],
   "source": [
    "draw_biomorph(canvas)"
   ]
  },
  {
   "cell_type": "code",
   "execution_count": 88,
   "id": "52f12750-723d-4b9e-b2fb-2f1077c5e78a",
   "metadata": {},
   "outputs": [
    {
     "data": {
      "application/vnd.jupyter.widget-view+json": {
       "model_id": "03346806ae9e44fe91a088c1cb110362",
       "version_major": 2,
       "version_minor": 0
      },
      "text/plain": [
       "Canvas(height=600, width=800)"
      ]
     },
     "metadata": {},
     "output_type": "display_data"
    }
   ],
   "source": [
    "display(canvas)"
   ]
  },
  {
   "cell_type": "code",
   "execution_count": null,
   "id": "c3f9223a-7bef-4530-8c73-f8ef467473ba",
   "metadata": {},
   "outputs": [],
   "source": []
  },
  {
   "cell_type": "code",
   "execution_count": 88,
   "id": "fe74901d-afc1-4023-ba6b-2a2377d0af0c",
   "metadata": {
    "scrolled": true
   },
   "outputs": [],
   "source": [
    "# test single drawing: \n",
    "draw_biomorph(canvas, 500,500,200,\"up\",0.7,0,30,3,4,20)"
   ]
  },
  {
   "cell_type": "code",
   "execution_count": 100,
   "id": "310d11d3-d85d-480f-8895-57f5d5307cc1",
   "metadata": {},
   "outputs": [],
   "source": [
    "canvas = Canvas(width=800, height=600)"
   ]
  },
  {
   "cell_type": "code",
   "execution_count": 102,
   "id": "234873dd-95dc-40d4-b457-c82cd564bfc1",
   "metadata": {},
   "outputs": [],
   "source": [
    "def draw_biomorph(canvas, x1, y1, len, order, factor, angle_deg, rotation, x2, y2, iterations_remaining):\n",
    "\n",
    "    if iterations_remaining > 0:\n",
    "        iterations_remaining -= 1\n",
    "\n",
    "        len = len * factor\n",
    "        angle_deg = angle_deg + rotation # rotation in degrees\n",
    "        angle_rad = angle_deg * pi / 180 # rotation in radiant\n",
    "        x2 = (x1 - len * cos(angle_rad)) \n",
    "        y2 = (y1 - len * sin(angle_rad)) \n",
    "\n",
    "        #print(iterations_remaining, \"x1: \", x1, \"y1: \", y1, \" x2: \", x2, \" y2: \", y2, \"angle: \", angle_deg, \"len: \", len)\n",
    "\n",
    "        canvas.stroke_style = \"red\"\n",
    "        canvas.stroke_line(x1, y1, x2, y2)\n",
    "        \n",
    "        x1 = x2\n",
    "        y1 = y2\n",
    "\n",
    "        draw_biomorph(canvas, x1, y1, len, order, factor, angle_deg, rotation, x2, y2, iterations_remaining)\n",
    "    "
   ]
  },
  {
   "cell_type": "code",
   "execution_count": 103,
   "id": "2c7a6d7e-9900-404e-a1d9-c2c8c720a7c5",
   "metadata": {},
   "outputs": [],
   "source": [
    "for r in range(0,360,1):\n",
    "    draw_biomorph(canvas, 500,300,200,\"up\",0.7,0,r,3,4,20)"
   ]
  },
  {
   "cell_type": "code",
   "execution_count": 101,
   "id": "e225596e-87fb-49b0-af55-900c7f206256",
   "metadata": {},
   "outputs": [
    {
     "data": {
      "application/vnd.jupyter.widget-view+json": {
       "model_id": "6b058461397b4baa92b85b672a63a738",
       "version_major": 2,
       "version_minor": 0
      },
      "text/plain": [
       "Canvas(height=600, width=800)"
      ]
     },
     "execution_count": 101,
     "metadata": {},
     "output_type": "execute_result"
    }
   ],
   "source": [
    "canvas"
   ]
  },
  {
   "cell_type": "code",
   "execution_count": null,
   "id": "0ddeae6f-d1e3-475f-a257-d0acfb6e6f64",
   "metadata": {},
   "outputs": [],
   "source": []
  }
 ],
 "metadata": {
  "kernelspec": {
   "display_name": "Python 3 (ipykernel)",
   "language": "python",
   "name": "python3"
  },
  "language_info": {
   "codemirror_mode": {
    "name": "ipython",
    "version": 3
   },
   "file_extension": ".py",
   "mimetype": "text/x-python",
   "name": "python",
   "nbconvert_exporter": "python",
   "pygments_lexer": "ipython3",
   "version": "3.9.18"
  }
 },
 "nbformat": 4,
 "nbformat_minor": 5
}
