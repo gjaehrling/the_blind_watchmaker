{
 "cells": [
  {
   "cell_type": "markdown",
   "id": "2ac1c402-cca8-4a1c-b4fa-b0f1ff142e3f",
   "metadata": {},
   "source": [
    "## Chapter 2: The apt Design\n",
    "\n",
    "Assuming, the target is to create the sentence \"methinks it looks like a weasel\" from a random number of tries:"
   ]
  },
  {
   "cell_type": "code",
   "execution_count": null,
   "id": "15019cdc-d11b-46be-9ff1-363f02ac75bf",
   "metadata": {},
   "outputs": [],
   "source": []
  }
 ],
 "metadata": {
  "kernelspec": {
   "display_name": "Python 3 (ipykernel)",
   "language": "python",
   "name": "python3"
  },
  "language_info": {
   "codemirror_mode": {
    "name": "ipython",
    "version": 3
   },
   "file_extension": ".py",
   "mimetype": "text/x-python",
   "name": "python",
   "nbconvert_exporter": "python",
   "pygments_lexer": "ipython3",
   "version": "3.9.18"
  }
 },
 "nbformat": 4,
 "nbformat_minor": 5
}
