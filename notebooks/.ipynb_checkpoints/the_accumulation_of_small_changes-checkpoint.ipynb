{
 "cells": [
  {
   "cell_type": "markdown",
   "id": "6373f4b0-9ee8-4811-9053-9338dfa35825",
   "metadata": {},
   "source": [
    "## Chapter 3: The Accumulation of Small Changes\n",
    "\n",
    "The 3rd chapter outlining the principles of the accumulation of small changes"
   ]
  },
  {
   "cell_type": "code",
   "execution_count": null,
   "id": "78bbe34c-eb65-408c-bf7b-1fc3f49c043f",
   "metadata": {},
   "outputs": [],
   "source": []
  }
 ],
 "metadata": {
  "kernelspec": {
   "display_name": "Python 3 (ipykernel)",
   "language": "python",
   "name": "python3"
  },
  "language_info": {
   "codemirror_mode": {
    "name": "ipython",
    "version": 3
   },
   "file_extension": ".py",
   "mimetype": "text/x-python",
   "name": "python",
   "nbconvert_exporter": "python",
   "pygments_lexer": "ipython3",
   "version": "3.9.18"
  }
 },
 "nbformat": 4,
 "nbformat_minor": 5
}
